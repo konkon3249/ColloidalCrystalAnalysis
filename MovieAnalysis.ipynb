{
 "cells": [
  {
   "cell_type": "markdown",
   "metadata": {},
   "source": [
    "# 動画・画像処理レッスン３\n",
    "## 画像処理・解析の全自動化\n",
    "by 石川晃平(aka konkon)  \n",
    "e-mail: ishikawa@unno.material.nagoya-u.ac.jp"
   ]
  },
  {
   "cell_type": "code",
   "execution_count": 14,
   "metadata": {},
   "outputs": [],
   "source": [
    "import cv2\n",
    "import numpy as np\n",
    "import matplotlib.pyplot as plt\n",
    "import matplotlib as mpl\n",
    "import math\n",
    "import random\n",
    "import os\n",
    "import glob\n",
    "\n",
    "# HomCloudのインターフェース\n",
    "# 使うときはコメントアウトを外す\n",
    "#import homcloud.interface as hc  \n",
    "\n",
    "from skimage.feature import peak_local_max\n",
    "from skimage import data, img_as_float\n",
    "from scipy import ndimage as ndi\n",
    "from sklearn.neighbors import NearestNeighbors\n",
    "from sklearn.cluster import KMeans\n",
    "\n",
    "from tqdm import tqdm_notebook as tqdm"
   ]
  },
  {
   "cell_type": "markdown",
   "metadata": {},
   "source": [
    "## 動画の読み込み"
   ]
  },
  {
   "cell_type": "code",
   "execution_count": 15,
   "metadata": {},
   "outputs": [
    {
     "name": "stdout",
     "output_type": "stream",
     "text": [
      "29.97002997002997 7207.0\n"
     ]
    }
   ],
   "source": [
    "movie_path = '../0.5%2.5μmPS_100Hz_8Vp-p_short_doublespeed.avi'\n",
    "cap = cv2.VideoCapture(movie_path) # 動画パスを入力\n",
    "framerate = cap.get(cv2.CAP_PROP_FPS) # フレームレート\n",
    "count = cap.get(cv2.CAP_PROP_FRAME_COUNT) # フレーム数\n",
    "print(framerate,count)"
   ]
  },
  {
   "cell_type": "markdown",
   "metadata": {},
   "source": [
    "## 動画から何フレームおきに画像を読み込むかを選択"
   ]
  },
  {
   "cell_type": "code",
   "execution_count": 17,
   "metadata": {},
   "outputs": [
    {
     "name": "stdout",
     "output_type": "stream",
     "text": [
      "(241,)\n"
     ]
    }
   ],
   "source": [
    "skip_length = 30 # 30フレーム(約1秒)ごとに画像を読み込み\n",
    "frame_numbers = np.arange(0,int(count),skip_length)\n",
    "print(frame_numbers.shape)"
   ]
  },
  {
   "cell_type": "markdown",
   "metadata": {},
   "source": [
    "## 関数の定義"
   ]
  },
  {
   "cell_type": "code",
   "execution_count": 18,
   "metadata": {},
   "outputs": [],
   "source": [
    "#画像を正規化する関数\n",
    "def normalize(img):\n",
    "    hoge = img.copy()\n",
    "    max_, min_ = np.max(hoge), np.min(hoge)\n",
    "    fuga = (hoge - min_)/(max_ - min_)\n",
    "    return fuga\n",
    "\n",
    "#極座標変換\n",
    "def CalcPolarCoordinates(pts):\n",
    "    pts_polar = np.array([i - pts[0] for i in pts])[1:]\n",
    "    pts_polar = np.array([[np.sqrt(i[1]**2 + i[0]**2), np.arctan2(i[0],i[1])] for i in pts_polar])\n",
    "    return pts_polar\n",
    "\n",
    "#秩序変数を計算する関数\n",
    "def CalcOrderParam(theta,order):\n",
    "    num = theta.shape[0]\n",
    "    cosine = np.sum(np.cos(order*theta)) / num\n",
    "    sine = np.sum(np.sin(order*theta)) / num\n",
    "    psi = np.sqrt(cosine**2 + sine**2)\n",
    "    return psi"
   ]
  },
  {
   "cell_type": "markdown",
   "metadata": {},
   "source": [
    "## 保存用ディレクトリの作成"
   ]
  },
  {
   "cell_type": "code",
   "execution_count": 19,
   "metadata": {},
   "outputs": [],
   "source": [
    "try:\n",
    "    os.mkdir('./detect')\n",
    "except:\n",
    "    print('Directory for perticle detection already exist.')\n",
    "    \n",
    "try:\n",
    "    os.mkdir('./phom')\n",
    "except:\n",
    "    print('Directory for persistent homology already exist.')"
   ]
  },
  {
   "cell_type": "markdown",
   "metadata": {},
   "source": [
    "## 全自動解析\n",
    "基本的にはレッスン2でやったことをfor文で回しているだけです。  \n",
    "パーシステントホモロジーの計算がなければ、4～5 iteration/secぐらいで進むはずです。"
   ]
  },
  {
   "cell_type": "code",
   "execution_count": 21,
   "metadata": {
    "scrolled": false
   },
   "outputs": [
    {
     "name": "stderr",
     "output_type": "stream",
     "text": [
      "c:\\users\\konkon\\anaconda3\\envs\\hom\\lib\\site-packages\\ipykernel_launcher.py:8: TqdmDeprecationWarning: This function will be removed in tqdm==5.0.0\n",
      "Please use `tqdm.notebook.tqdm` instead of `tqdm.tqdm_notebook`\n",
      "  \n"
     ]
    },
    {
     "data": {
      "application/vnd.jupyter.widget-view+json": {
       "model_id": "beacd309608a45a8b2c2afe20b1eeea7",
       "version_major": 2,
       "version_minor": 0
      },
      "text/plain": [
       "HBox(children=(FloatProgress(value=0.0, max=241.0), HTML(value='')))"
      ]
     },
     "metadata": {},
     "output_type": "display_data"
    },
    {
     "name": "stdout",
     "output_type": "stream",
     "text": [
      "\n"
     ]
    }
   ],
   "source": [
    "# 拡大後の画像サイズをここで設定\n",
    "size = 600\n",
    "\n",
    "# Homcloudでパーシステントホモロジーの計算をするときはここをTrueに。\n",
    "# その場合は環境設定を忘れずに。\n",
    "calcHomology = False\n",
    "\n",
    "for num in tqdm(frame_numbers):\n",
    "    \n",
    "    # 動画からの画像読み込み\n",
    "    cap.set(cv2.CAP_PROP_POS_FRAMES, num)\n",
    "    ret,frame = cap.read()\n",
    "    # 画像のトリミング\n",
    "    img = frame[60:310,250:500]\n",
    "    # 規定サイズへの画像の拡大\n",
    "    img = cv2.resize(img,(size,size), interpolation=cv2.INTER_CUBIC)\n",
    "    # グレースケール変換\n",
    "    img = cv2.cvtColor(img,cv2.COLOR_BGR2GRAY)\n",
    "    # 輝度の正規化\n",
    "    img_norm = (normalize(img)*255).astype(np.uint8)\n",
    "    # Non-local means denoisingによるノイズ除去\n",
    "    img_norm = cv2.fastNlMeansDenoising(img_norm,None,7,11,15)\n",
    "    # Gaussian filterを用いたスムージング\n",
    "    img_blur = cv2.GaussianBlur(img_norm,(9,9),0)\n",
    "    \n",
    "    # マスクの作成\n",
    "    __,mask = cv2.threshold(img_blur,30,255,cv2.THRESH_BINARY)\n",
    "    mask = cv2.erode(mask,np.ones((31,31),np.uint8),iterations = 1)\n",
    "    __,area = cv2.threshold(img_blur,200,255,cv2.THRESH_BINARY_INV)\n",
    "    area[np.where(mask == 0)] = 0\n",
    "    \n",
    "    # 適応的二値化\n",
    "    th = cv2.adaptiveThreshold(img_blur,255,cv2.ADAPTIVE_THRESH_GAUSSIAN_C,cv2.THRESH_BINARY,7,-3)\n",
    "    # 領域検出\n",
    "    cnts,__ = cv2.findContours(th,cv2.RETR_TREE,cv2.CHAIN_APPROX_SIMPLE)\n",
    "    # OpenCVのバージョンが古くてここでエラーが出る場合は下のように戻り値を変える\n",
    "    # __,cnts,__ = cv2.findContours(th,cv2.RETR_TREE,cv2.CHAIN_APPROX_SIMPLE)\n",
    "    \n",
    "    # 検出領域のフィルタリング\n",
    "    pts_filtered = []\n",
    "    for cnt in cnts:\n",
    "        M = cv2.moments(cnt)\n",
    "        if(M['m00'] != 0):\n",
    "            cx = int(M['m10']/M['m00'])\n",
    "            cy = int(M['m01']/M['m00'])\n",
    "            x,y,w,h = cv2.boundingRect(cnt)\n",
    "            aspect_ratio = np.log10(float(w)/h)\n",
    "            a = float(cv2.contourArea(cnt))\n",
    "            extent = a /(w*h)\n",
    "            if(aspect_ratio > -0.1 and aspect_ratio < 0.4 and extent > 0.2 and area[cy,cx] != 0 and a > 1):\n",
    "                pts_filtered.append([cy,cx])\n",
    "            else:\n",
    "                pass\n",
    "        else:\n",
    "            pass\n",
    "    pts_filtered = np.array(pts_filtered).T\n",
    "    \n",
    "    # 近傍粒子の検出と二重検出のフィルタリング\n",
    "    nbrs = NearestNeighbors(n_neighbors=10, algorithm='ball_tree').fit(pts_filtered.T)\n",
    "    distances, indices = nbrs.kneighbors(pts_filtered.T)\n",
    "    \n",
    "    center_list = []\n",
    "    idx_rem = []\n",
    "    for d,i in zip(distances,indices):\n",
    "        i = i[np.where(d < 7)]\n",
    "        pts = pts_filtered.T[i]\n",
    "        idx_rem.extend(i[1:])\n",
    "        if(i[0] not in idx_rem):   \n",
    "            center = np.median(pts,axis=0)\n",
    "            center_list.append(center)\n",
    "    center_list = np.array(center_list).astype(np.int32)\n",
    "    \n",
    "    #重複削除\n",
    "    center_list = np.unique(center_list,axis=0)\n",
    "    center_list = center_list.T\n",
    "    \n",
    "    #近傍粒子数の計算\n",
    "    nbrs = NearestNeighbors(n_neighbors=10, algorithm='ball_tree').fit(center_list.T)\n",
    "    distances, indices = nbrs.kneighbors(center_list.T)\n",
    "    \n",
    "    # 秩序変数の計算\n",
    "    psi_list = []\n",
    "    for dist,idx in zip(distances,indices):\n",
    "        pts = center_list.T[idx[np.where(dist < 22)]]\n",
    "        pts_polar = CalcPolarCoordinates(pts)\n",
    "        if(pts_polar.shape[0] > 0):\n",
    "            psi = CalcOrderParam(pts_polar[:,1],6)\n",
    "        else:\n",
    "            psi = 0\n",
    "        psi_list.append(psi)\n",
    "    \n",
    "    psi_list = np.array(psi_list)*256\n",
    "    psi_color = cv2.applyColorMap(psi_list.astype(np.uint8), cv2.COLORMAP_COOL)\n",
    "    \n",
    "    # 近接粒子数と結合を計算\n",
    "    co_list = []\n",
    "    connections = []\n",
    "    for d,i in zip(distances,indices):\n",
    "        idx = i[np.where(d < 22)][1:]\n",
    "        co_list.append(idx.shape[0])\n",
    "        for j in idx:\n",
    "            connections.append([center_list.T[i[0]],center_list.T[j]])\n",
    "    co_list = np.array(co_list)\n",
    "    connections = np.array(connections)\n",
    "    \n",
    "    # 検出結果と秩序変数をプロット\n",
    "    img_res = cv2.cvtColor(img_norm,cv2.COLOR_GRAY2BGR)\n",
    "    for con in connections:\n",
    "        img_res = cv2.line(img_res,(con[0][1],con[0][0]),(con[1][1],con[1][0]),(255,255,255),1)\n",
    "    for p_num,cnt in enumerate(center_list.T):\n",
    "        img_res = cv2.circle(img_res,(cnt[1],cnt[0]),4,tuple([int(x) for x in psi_color[p_num][0]]),-1)\n",
    "    cv2.imwrite('./detect/'+str(num).zfill(4)+'.png',img_res)\n",
    "    \n",
    "    # ここからはパーシステントホモロジー計算\n",
    "    if(calcHomology):\n",
    "    \n",
    "        pointcloud = center_list.T/size\n",
    "        hc.PDList.from_alpha_filtration(pointcloud, save_to=\"pointcloud.idiagram\",save_boundary_map=True)\n",
    "        pdlist = hc.PDList(\"pointcloud.idiagram\")\n",
    "        pd1 = pdlist.dth_diagram(1)\n",
    "        \n",
    "        min_,max_ = 0, 2e-3\n",
    "\n",
    "        fig=plt.figure(facecolor='white',dpi=150)\n",
    "        ax = fig.add_subplot(111)\n",
    "        ax.set_aspect('equal', adjustable='box')\n",
    "        H = ax.hist2d(pd1.births, pd1.deaths,bins=75,range=[[min_,max_],[min_,max_]],\n",
    "                      norm=mpl.colors.LogNorm(), cmap=\"rainbow\")\n",
    "        L = ax.plot([0,1], [0,1], c=\"black\", lw=1)\n",
    "        ax.set_xlabel('Birth')\n",
    "        ax.set_ylabel('Death')\n",
    "        ax.ticklabel_format(style=\"sci\",axis=\"y\",scilimits=(0,0))\n",
    "        ax.ticklabel_format(style=\"sci\",axis=\"x\",scilimits=(0,0))\n",
    "        plt.xlim(min_,max_)\n",
    "        plt.ylim(min_,max_)\n",
    "        pp = fig.colorbar(H[3],ax=ax)\n",
    "        pp.mappable.set_clim(1,50)\n",
    "        plt.savefig('./phom/'+str(num).zfill(4)+'.png')\n",
    "        plt.close(fig)\n",
    "    \n",
    "    else:\n",
    "        pass"
   ]
  },
  {
   "cell_type": "code",
   "execution_count": null,
   "metadata": {},
   "outputs": [],
   "source": []
  }
 ],
 "metadata": {
  "kernelspec": {
   "display_name": "Python 3",
   "language": "python",
   "name": "python3"
  },
  "language_info": {
   "codemirror_mode": {
    "name": "ipython",
    "version": 3
   },
   "file_extension": ".py",
   "mimetype": "text/x-python",
   "name": "python",
   "nbconvert_exporter": "python",
   "pygments_lexer": "ipython3",
   "version": "3.7.5"
  }
 },
 "nbformat": 4,
 "nbformat_minor": 2
}
